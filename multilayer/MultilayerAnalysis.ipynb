{
 "cells": [
  {
   "cell_type": "code",
   "execution_count": 202,
   "metadata": {},
   "outputs": [],
   "source": [
    "import pandas as pd\n",
    "import numpy as np\n",
    "import matplotlib.pyplot as plt\n",
    "import glob\n",
    "import json\n",
    "from sklearn.metrics import adjusted_rand_score\n",
    "import backbone\n",
    "import networkx as nx\n",
    "import copy\n",
    "%matplotlib inline"
   ]
  },
  {
   "cell_type": "code",
   "execution_count": 203,
   "metadata": {},
   "outputs": [],
   "source": [
    "years = list(map(str,range(1999,2018)))\n",
    "with open('../trade_clusters/EU_countries.json') as f:\n",
    "    countries = json.load(f)['results']\n",
    "countries_id = [c['id'] for c in countries]\n",
    "countries_name = {c['id']:c['text'] for c in countries}"
   ]
  },
  {
   "cell_type": "code",
   "execution_count": 204,
   "metadata": {},
   "outputs": [],
   "source": [
    "files = {y: glob.glob('../../data/comtrade/Export_data_yearly/AG2/{}/Export_{}_*_*.csv'.format(y,y)) for y in years}\n",
    "files = {y: [f for f in files[y] if f.split('_')[-2] in countries_id] for y in years}\n",
    "files = {y: [f for f in files[y] if f.split('_')[-1][:-4] in countries_id] for y in years}"
   ]
  },
  {
   "cell_type": "code",
   "execution_count": 205,
   "metadata": {},
   "outputs": [
    {
     "data": {
      "text/plain": [
       "[('1999', 752),\n",
       " ('2000', 754),\n",
       " ('2001', 754),\n",
       " ('2002', 755),\n",
       " ('2003', 754),\n",
       " ('2004', 756),\n",
       " ('2005', 755),\n",
       " ('2006', 755),\n",
       " ('2007', 754),\n",
       " ('2008', 754),\n",
       " ('2009', 756),\n",
       " ('2010', 756),\n",
       " ('2011', 754),\n",
       " ('2012', 753),\n",
       " ('2013', 755),\n",
       " ('2014', 756),\n",
       " ('2015', 756),\n",
       " ('2016', 756),\n",
       " ('2017', 756)]"
      ]
     },
     "execution_count": 205,
     "metadata": {},
     "output_type": "execute_result"
    }
   ],
   "source": [
    "[(y,len(files[y])) for y in years]"
   ]
  },
  {
   "cell_type": "code",
   "execution_count": 206,
   "metadata": {},
   "outputs": [],
   "source": [
    "year = '2017'"
   ]
  },
  {
   "cell_type": "code",
   "execution_count": 207,
   "metadata": {},
   "outputs": [],
   "source": [
    "data = [pd.read_csv(f) for f in files[year]]\n",
    "for i in range(len(data)):\n",
    "    data[i] = data[i][['Year',\n",
    "                       'Partner',\n",
    "                       'Partner Code',\n",
    "                       'Reporter',\n",
    "                       'Reporter Code',\n",
    "                       'Commodity',\n",
    "                       'Commodity Code',\n",
    "                       'Trade Value (US$)']]\n",
    "data = pd.concat(data)"
   ]
  },
  {
   "cell_type": "code",
   "execution_count": 208,
   "metadata": {},
   "outputs": [],
   "source": [
    "multilayer_100 = data[['Commodity Code', 'Partner Code', 'Reporter Code','Trade Value (US$)']]\n",
    "multilayer_100.columns = ['SITC', 'Partner Code', 'Reporter Code', 'export']"
   ]
  },
  {
   "cell_type": "code",
   "execution_count": 209,
   "metadata": {},
   "outputs": [],
   "source": [
    "hs_to_sitc = pd.read_csv('../../data/comtrade/HStoSITC.csv',sep='\\t',dtype={'From HS 2017' : str, 'To SITC Rev. 4':str})\n",
    "hs_to_sitc['From HS 2017'] = hs_to_sitc['From HS 2017'].apply(lambda x: int(x[:2]))\n",
    "hs_to_sitc['To SITC Rev. 4'] = hs_to_sitc['To SITC Rev. 4'].apply(lambda x: int(x[:1]))\n",
    "hs_to_sitc = dict(np.array(hs_to_sitc))"
   ]
  },
  {
   "cell_type": "code",
   "execution_count": 210,
   "metadata": {},
   "outputs": [],
   "source": [
    "data['SITC'] = data['Commodity Code'].map(hs_to_sitc)\n"
   ]
  },
  {
   "cell_type": "code",
   "execution_count": 211,
   "metadata": {},
   "outputs": [],
   "source": [
    "sitc_names = {0 : 'Food and live animals',\n",
    "              1 : 'Beverages and tobacco',\n",
    "              2 : 'Crude materials, inedible, except fuels',\n",
    "              3 : 'Mineral fuels, lubricants and related materials',\n",
    "              4 : 'Animal and vegetable oils, fats and waxes',\n",
    "              5 : 'Chemicals and related products, n.e.s.',\n",
    "              6 : 'Manufactured goods',\n",
    "              7 : 'Machinery and transport equipment',\n",
    "              8 : 'Miscellaneous manufactured articles',\n",
    "              9 : 'Commodities and transactions not classified elsewhere'}"
   ]
  },
  {
   "cell_type": "code",
   "execution_count": 212,
   "metadata": {},
   "outputs": [],
   "source": [
    "data['SITC_name'] = data['SITC'].map(sitc_names)"
   ]
  },
  {
   "cell_type": "code",
   "execution_count": 213,
   "metadata": {},
   "outputs": [
    {
     "data": {
      "text/html": [
       "<div>\n",
       "<style scoped>\n",
       "    .dataframe tbody tr th:only-of-type {\n",
       "        vertical-align: middle;\n",
       "    }\n",
       "\n",
       "    .dataframe tbody tr th {\n",
       "        vertical-align: top;\n",
       "    }\n",
       "\n",
       "    .dataframe thead th {\n",
       "        text-align: right;\n",
       "    }\n",
       "</style>\n",
       "<table border=\"1\" class=\"dataframe\">\n",
       "  <thead>\n",
       "    <tr style=\"text-align: right;\">\n",
       "      <th></th>\n",
       "      <th>Year</th>\n",
       "      <th>Partner</th>\n",
       "      <th>Partner Code</th>\n",
       "      <th>Reporter</th>\n",
       "      <th>Reporter Code</th>\n",
       "      <th>Commodity</th>\n",
       "      <th>Commodity Code</th>\n",
       "      <th>Trade Value (US$)</th>\n",
       "      <th>SITC</th>\n",
       "      <th>SITC_name</th>\n",
       "    </tr>\n",
       "  </thead>\n",
       "  <tbody>\n",
       "    <tr>\n",
       "      <th>0</th>\n",
       "      <td>2017</td>\n",
       "      <td>Slovenia</td>\n",
       "      <td>705</td>\n",
       "      <td>Croatia</td>\n",
       "      <td>191</td>\n",
       "      <td>Animals; live</td>\n",
       "      <td>1</td>\n",
       "      <td>6429801</td>\n",
       "      <td>0</td>\n",
       "      <td>Food and live animals</td>\n",
       "    </tr>\n",
       "    <tr>\n",
       "      <th>1</th>\n",
       "      <td>2017</td>\n",
       "      <td>Slovenia</td>\n",
       "      <td>705</td>\n",
       "      <td>Croatia</td>\n",
       "      <td>191</td>\n",
       "      <td>Meat and edible meat offal</td>\n",
       "      <td>2</td>\n",
       "      <td>33105698</td>\n",
       "      <td>0</td>\n",
       "      <td>Food and live animals</td>\n",
       "    </tr>\n",
       "    <tr>\n",
       "      <th>2</th>\n",
       "      <td>2017</td>\n",
       "      <td>Slovenia</td>\n",
       "      <td>705</td>\n",
       "      <td>Croatia</td>\n",
       "      <td>191</td>\n",
       "      <td>Fish and crustaceans, molluscs and other aquat...</td>\n",
       "      <td>3</td>\n",
       "      <td>19581895</td>\n",
       "      <td>0</td>\n",
       "      <td>Food and live animals</td>\n",
       "    </tr>\n",
       "    <tr>\n",
       "      <th>3</th>\n",
       "      <td>2017</td>\n",
       "      <td>Slovenia</td>\n",
       "      <td>705</td>\n",
       "      <td>Croatia</td>\n",
       "      <td>191</td>\n",
       "      <td>Dairy produce; birds' eggs; natural honey; edi...</td>\n",
       "      <td>4</td>\n",
       "      <td>24740726</td>\n",
       "      <td>0</td>\n",
       "      <td>Food and live animals</td>\n",
       "    </tr>\n",
       "    <tr>\n",
       "      <th>4</th>\n",
       "      <td>2017</td>\n",
       "      <td>Slovenia</td>\n",
       "      <td>705</td>\n",
       "      <td>Croatia</td>\n",
       "      <td>191</td>\n",
       "      <td>Animal originated products; not elsewhere spec...</td>\n",
       "      <td>5</td>\n",
       "      <td>968436</td>\n",
       "      <td>2</td>\n",
       "      <td>Crude materials, inedible, except fuels</td>\n",
       "    </tr>\n",
       "  </tbody>\n",
       "</table>\n",
       "</div>"
      ],
      "text/plain": [
       "   Year   Partner  Partner Code Reporter  Reporter Code  \\\n",
       "0  2017  Slovenia           705  Croatia            191   \n",
       "1  2017  Slovenia           705  Croatia            191   \n",
       "2  2017  Slovenia           705  Croatia            191   \n",
       "3  2017  Slovenia           705  Croatia            191   \n",
       "4  2017  Slovenia           705  Croatia            191   \n",
       "\n",
       "                                           Commodity  Commodity Code  \\\n",
       "0                                      Animals; live               1   \n",
       "1                         Meat and edible meat offal               2   \n",
       "2  Fish and crustaceans, molluscs and other aquat...               3   \n",
       "3  Dairy produce; birds' eggs; natural honey; edi...               4   \n",
       "4  Animal originated products; not elsewhere spec...               5   \n",
       "\n",
       "   Trade Value (US$)  SITC                                SITC_name  \n",
       "0            6429801     0                    Food and live animals  \n",
       "1           33105698     0                    Food and live animals  \n",
       "2           19581895     0                    Food and live animals  \n",
       "3           24740726     0                    Food and live animals  \n",
       "4             968436     2  Crude materials, inedible, except fuels  "
      ]
     },
     "execution_count": 213,
     "metadata": {},
     "output_type": "execute_result"
    }
   ],
   "source": [
    "data.head()"
   ]
  },
  {
   "cell_type": "code",
   "execution_count": 214,
   "metadata": {},
   "outputs": [
    {
     "data": {
      "text/html": [
       "<div>\n",
       "<style scoped>\n",
       "    .dataframe tbody tr th:only-of-type {\n",
       "        vertical-align: middle;\n",
       "    }\n",
       "\n",
       "    .dataframe tbody tr th {\n",
       "        vertical-align: top;\n",
       "    }\n",
       "\n",
       "    .dataframe thead th {\n",
       "        text-align: right;\n",
       "    }\n",
       "</style>\n",
       "<table border=\"1\" class=\"dataframe\">\n",
       "  <thead>\n",
       "    <tr style=\"text-align: right;\">\n",
       "      <th></th>\n",
       "      <th>SITC</th>\n",
       "      <th>Partner Code</th>\n",
       "      <th>Reporter Code</th>\n",
       "      <th>export</th>\n",
       "    </tr>\n",
       "  </thead>\n",
       "  <tbody>\n",
       "    <tr>\n",
       "      <th>0</th>\n",
       "      <td>0</td>\n",
       "      <td>40</td>\n",
       "      <td>56</td>\n",
       "      <td>304951084</td>\n",
       "    </tr>\n",
       "    <tr>\n",
       "      <th>1</th>\n",
       "      <td>0</td>\n",
       "      <td>40</td>\n",
       "      <td>100</td>\n",
       "      <td>38562103</td>\n",
       "    </tr>\n",
       "    <tr>\n",
       "      <th>2</th>\n",
       "      <td>0</td>\n",
       "      <td>40</td>\n",
       "      <td>191</td>\n",
       "      <td>85694913</td>\n",
       "    </tr>\n",
       "    <tr>\n",
       "      <th>3</th>\n",
       "      <td>0</td>\n",
       "      <td>40</td>\n",
       "      <td>196</td>\n",
       "      <td>8960827</td>\n",
       "    </tr>\n",
       "    <tr>\n",
       "      <th>4</th>\n",
       "      <td>0</td>\n",
       "      <td>40</td>\n",
       "      <td>203</td>\n",
       "      <td>372037839</td>\n",
       "    </tr>\n",
       "  </tbody>\n",
       "</table>\n",
       "</div>"
      ],
      "text/plain": [
       "   SITC  Partner Code  Reporter Code     export\n",
       "0     0            40             56  304951084\n",
       "1     0            40            100   38562103\n",
       "2     0            40            191   85694913\n",
       "3     0            40            196    8960827\n",
       "4     0            40            203  372037839"
      ]
     },
     "execution_count": 214,
     "metadata": {},
     "output_type": "execute_result"
    }
   ],
   "source": [
    "multilayer = data.groupby(['SITC', 'Partner Code', 'Reporter Code', ])['Trade Value (US$)'].sum().reset_index()\n",
    "multilayer.columns = ['SITC', 'Partner Code', 'Reporter Code', 'export']\n",
    "multilayer.head()"
   ]
  },
  {
   "cell_type": "markdown",
   "metadata": {},
   "source": [
    "# Lista di cose da fare\n",
    "* community detection per layer\n",
    "* serrano disparity filter prima e dopo community\n",
    "* misure su multilayer:\n",
    "  * attivita' dei nodi"
   ]
  },
  {
   "cell_type": "markdown",
   "metadata": {},
   "source": [
    "# Disparity Filter"
   ]
  },
  {
   "cell_type": "code",
   "execution_count": 215,
   "metadata": {},
   "outputs": [],
   "source": [
    "a = nx.Graph()"
   ]
  },
  {
   "cell_type": "code",
   "execution_count": null,
   "metadata": {},
   "outputs": [],
   "source": []
  },
  {
   "cell_type": "code",
   "execution_count": 216,
   "metadata": {},
   "outputs": [
    {
     "name": "stderr",
     "output_type": "stream",
     "text": [
      "/usr/lib/python3.7/site-packages/ipykernel_launcher.py:13: SettingWithCopyWarning: \n",
      "A value is trying to be set on a copy of a slice from a DataFrame.\n",
      "Try using .loc[row_indexer,col_indexer] = value instead\n",
      "\n",
      "See the caveats in the documentation: http://pandas.pydata.org/pandas-docs/stable/indexing.html#indexing-view-versus-copy\n",
      "  del sys.path[0]\n"
     ]
    }
   ],
   "source": [
    "commodities = set(multilayer.SITC)\n",
    "comm_dfs = []\n",
    "\n",
    "\n",
    "for comm in commodities:\n",
    "    \n",
    "    multi_comm = multilayer.query('SITC=={}'.format(comm))\n",
    "    G = nx.Graph()\n",
    "    for a,b,w in np.array(multi_comm[['Partner Code','Reporter Code','export']]):\n",
    "        G.add_edge(a,b,weight=w)\n",
    "        \n",
    "    G1 = backbone.disparity_filter(G,weight='weight')\n",
    "    multi_comm['alpha'] = [G1.edges[a,b]['alpha'] for a,b in np.array(multi_comm[['Partner Code','Reporter Code']])]\n",
    "    comm_dfs.append(multi_comm)\n",
    "    \n"
   ]
  },
  {
   "cell_type": "code",
   "execution_count": 217,
   "metadata": {},
   "outputs": [],
   "source": [
    "multilayer = pd.concat(comm_dfs,ignore_index=1)"
   ]
  },
  {
   "cell_type": "code",
   "execution_count": null,
   "metadata": {},
   "outputs": [],
   "source": []
  },
  {
   "cell_type": "code",
   "execution_count": 231,
   "metadata": {},
   "outputs": [],
   "source": [
    "edges_df = copy.copy(multilayer)\n",
    "\n",
    "edges_df.columns = ['network_id','from_id','to_id','export_value','alpha']\n",
    "edges_df['network_name'] = edges_df['network_id'].map(sitc_names)\n",
    "\n",
    "edges_df.to_csv('arcs_multilayer.csv',index=None)"
   ]
  },
  {
   "cell_type": "markdown",
   "metadata": {},
   "source": [
    "# Misure di Fede"
   ]
  },
  {
   "cell_type": "code",
   "execution_count": null,
   "metadata": {},
   "outputs": [],
   "source": []
  },
  {
   "cell_type": "code",
   "execution_count": 240,
   "metadata": {},
   "outputs": [],
   "source": [
    "multi = multilayer\n",
    "n_layer = len(set(multi.SITC))\n",
    "direction = 'Reporter'\n",
    "\n",
    "\n",
    "overlap_degree = multi.groupby('{} Code'.format(direction))['export'].sum().reset_index()\n",
    "overlap_degree.columns = ['{} Code'.format(direction), 'aggr_export']\n",
    "\n",
    "layer_degree = multi.groupby(['{} Code'.format(direction),'SITC'])['export'].sum().reset_index()\n",
    "\n",
    "part_df = pd.merge(layer_degree[['{} Code'.format(direction),'SITC','export']],overlap_degree,on='{} Code'.format(direction))\n",
    "\n",
    "part_df['ratio_exp'] = (part_df.export/part_df.aggr_export)**2\n",
    "\n",
    "partecipation_coeff = ((n_layer/(n_layer - 1.))*(1 - part_df.groupby('{} Code'.format(direction))['ratio_exp'].sum())).reset_index()\n",
    "\n",
    "summary_df = pd.merge(overlap_degree,partecipation_coeff,on='{} Code'.format(direction))\n",
    "summary_df.columns = ['reporter','aggr_exp','part_coef']\n",
    "summary_df.reporter = summary_df.reporter.apply(lambda x: countries_name[str(x)])\n",
    "\n",
    "#summary_df.aggr_exp = (summary_df.aggr_exp - summary_df.aggr_exp.mean())/summary_df.aggr_exp.std()\n",
    "\n",
    "\n",
    "\n",
    "y = (summary_df.aggr_exp).tolist()\n",
    "x = summary_df.part_coef.tolist()\n",
    "\n",
    "export_df = summary_df"
   ]
  },
  {
   "cell_type": "code",
   "execution_count": 221,
   "metadata": {},
   "outputs": [],
   "source": [
    "#(97/96)*(1-((part_df[part_df['Reporter Code']==703]['ratio_exp'])**2).sum())"
   ]
  },
  {
   "cell_type": "code",
   "execution_count": 222,
   "metadata": {},
   "outputs": [],
   "source": [
    "#((part_df[part_df['Reporter Code']==703]['ratio_exp'])**2).sum()"
   ]
  },
  {
   "cell_type": "code",
   "execution_count": 223,
   "metadata": {},
   "outputs": [
    {
     "data": {
      "text/html": [
       "<div>\n",
       "<style scoped>\n",
       "    .dataframe tbody tr th:only-of-type {\n",
       "        vertical-align: middle;\n",
       "    }\n",
       "\n",
       "    .dataframe tbody tr th {\n",
       "        vertical-align: top;\n",
       "    }\n",
       "\n",
       "    .dataframe thead th {\n",
       "        text-align: right;\n",
       "    }\n",
       "</style>\n",
       "<table border=\"1\" class=\"dataframe\">\n",
       "  <thead>\n",
       "    <tr style=\"text-align: right;\">\n",
       "      <th></th>\n",
       "      <th>Partner Code</th>\n",
       "      <th>SITC</th>\n",
       "      <th>export</th>\n",
       "      <th>aggr_export</th>\n",
       "      <th>ratio_exp</th>\n",
       "    </tr>\n",
       "  </thead>\n",
       "  <tbody>\n",
       "    <tr>\n",
       "      <th>237</th>\n",
       "      <td>703</td>\n",
       "      <td>7</td>\n",
       "      <td>25497021223</td>\n",
       "      <td>57415850014</td>\n",
       "      <td>0.197204</td>\n",
       "    </tr>\n",
       "    <tr>\n",
       "      <th>236</th>\n",
       "      <td>703</td>\n",
       "      <td>6</td>\n",
       "      <td>10706212018</td>\n",
       "      <td>57415850014</td>\n",
       "      <td>0.034770</td>\n",
       "    </tr>\n",
       "    <tr>\n",
       "      <th>238</th>\n",
       "      <td>703</td>\n",
       "      <td>8</td>\n",
       "      <td>9063293655</td>\n",
       "      <td>57415850014</td>\n",
       "      <td>0.024918</td>\n",
       "    </tr>\n",
       "    <tr>\n",
       "      <th>230</th>\n",
       "      <td>703</td>\n",
       "      <td>0</td>\n",
       "      <td>4430698875</td>\n",
       "      <td>57415850014</td>\n",
       "      <td>0.005955</td>\n",
       "    </tr>\n",
       "    <tr>\n",
       "      <th>235</th>\n",
       "      <td>703</td>\n",
       "      <td>5</td>\n",
       "      <td>3758922822</td>\n",
       "      <td>57415850014</td>\n",
       "      <td>0.004286</td>\n",
       "    </tr>\n",
       "    <tr>\n",
       "      <th>233</th>\n",
       "      <td>703</td>\n",
       "      <td>3</td>\n",
       "      <td>2198986899</td>\n",
       "      <td>57415850014</td>\n",
       "      <td>0.001467</td>\n",
       "    </tr>\n",
       "    <tr>\n",
       "      <th>232</th>\n",
       "      <td>703</td>\n",
       "      <td>2</td>\n",
       "      <td>780312397</td>\n",
       "      <td>57415850014</td>\n",
       "      <td>0.000185</td>\n",
       "    </tr>\n",
       "    <tr>\n",
       "      <th>239</th>\n",
       "      <td>703</td>\n",
       "      <td>9</td>\n",
       "      <td>620649996</td>\n",
       "      <td>57415850014</td>\n",
       "      <td>0.000117</td>\n",
       "    </tr>\n",
       "    <tr>\n",
       "      <th>234</th>\n",
       "      <td>703</td>\n",
       "      <td>4</td>\n",
       "      <td>213886548</td>\n",
       "      <td>57415850014</td>\n",
       "      <td>0.000014</td>\n",
       "    </tr>\n",
       "    <tr>\n",
       "      <th>231</th>\n",
       "      <td>703</td>\n",
       "      <td>1</td>\n",
       "      <td>145865581</td>\n",
       "      <td>57415850014</td>\n",
       "      <td>0.000006</td>\n",
       "    </tr>\n",
       "  </tbody>\n",
       "</table>\n",
       "</div>"
      ],
      "text/plain": [
       "     Partner Code  SITC       export  aggr_export  ratio_exp\n",
       "237           703     7  25497021223  57415850014   0.197204\n",
       "236           703     6  10706212018  57415850014   0.034770\n",
       "238           703     8   9063293655  57415850014   0.024918\n",
       "230           703     0   4430698875  57415850014   0.005955\n",
       "235           703     5   3758922822  57415850014   0.004286\n",
       "233           703     3   2198986899  57415850014   0.001467\n",
       "232           703     2    780312397  57415850014   0.000185\n",
       "239           703     9    620649996  57415850014   0.000117\n",
       "234           703     4    213886548  57415850014   0.000014\n",
       "231           703     1    145865581  57415850014   0.000006"
      ]
     },
     "execution_count": 223,
     "metadata": {},
     "output_type": "execute_result"
    }
   ],
   "source": [
    "(part_df[part_df['{} Code'.format(direction)]==703]).sort_values('ratio_exp',ascending=0)"
   ]
  },
  {
   "cell_type": "code",
   "execution_count": null,
   "metadata": {},
   "outputs": [],
   "source": []
  },
  {
   "cell_type": "code",
   "execution_count": 224,
   "metadata": {},
   "outputs": [
    {
     "data": {
      "image/png": "[encoded data removed]",
      "text/plain": [
       "<Figure size 720x720 with 1 Axes>"
      ]
     },
     "metadata": {
      "needs_background": "light"
     },
     "output_type": "display_data"
    }
   ],
   "source": [
    "plt.figure(figsize=(10,10))\n",
    "\n",
    "plt.plot(x,y,'o',ms=15)\n",
    "text = [plt.text(x,y,s,fontsize=20) for s,y,x in np.array(summary_df)]"
   ]
  },
  {
   "cell_type": "code",
   "execution_count": 163,
   "metadata": {},
   "outputs": [
    {
     "data": {
      "image/png": "[encoded data removed]",
      "text/plain": [
       "<Figure size 720x720 with 1 Axes>"
      ]
     },
     "metadata": {
      "needs_background": "light"
     },
     "output_type": "display_data"
    }
   ],
   "source": [
    "plt.figure(figsize=(10,10))\n",
    "\n",
    "plt.plot(x,y,'o',ms=15)\n",
    "text = [plt.text(x,y,s,fontsize=20) for s,y,x in np.array(summary_df)]"
   ]
  },
  {
   "cell_type": "code",
   "execution_count": null,
   "metadata": {},
   "outputs": [],
   "source": []
  },
  {
   "cell_type": "code",
   "execution_count": 242,
   "metadata": {},
   "outputs": [],
   "source": [
    "export_df.columns = ['id','export_overlap','export_part']\n",
    "import_df.columns = ['id','import_overlap','import_part']\n"
   ]
  },
  {
   "cell_type": "code",
   "execution_count": 243,
   "metadata": {},
   "outputs": [
    {
     "ename": "NameError",
     "evalue": "name 'df' is not defined",
     "output_type": "error",
     "traceback": [
      "\u001b[0;31m---------------------------------------------------------------------------\u001b[0m",
      "\u001b[0;31mNameError\u001b[0m                                 Traceback (most recent call last)",
      "\u001b[0;32m<ipython-input-243-fde6d49e1453>\u001b[0m in \u001b[0;36m<module>\u001b[0;34m\u001b[0m\n\u001b[1;32m      8\u001b[0m \u001b[0mmultilayer_new\u001b[0m\u001b[0;34m.\u001b[0m\u001b[0mcolumns\u001b[0m \u001b[0;34m=\u001b[0m \u001b[0;34m[\u001b[0m\u001b[0;34m'id'\u001b[0m\u001b[0;34m,\u001b[0m\u001b[0;34m'name'\u001b[0m\u001b[0;34m]\u001b[0m\u001b[0;34m\u001b[0m\u001b[0;34m\u001b[0m\u001b[0m\n\u001b[1;32m      9\u001b[0m \u001b[0mmultilayer_new\u001b[0m\u001b[0;34m.\u001b[0m\u001b[0mindex\u001b[0m \u001b[0;34m=\u001b[0m \u001b[0mrange\u001b[0m\u001b[0;34m(\u001b[0m\u001b[0mlen\u001b[0m\u001b[0;34m(\u001b[0m\u001b[0mmultilayer_new\u001b[0m\u001b[0;34m)\u001b[0m\u001b[0;34m)\u001b[0m\u001b[0;34m\u001b[0m\u001b[0;34m\u001b[0m\u001b[0m\n\u001b[0;32m---> 10\u001b[0;31m \u001b[0mmultilayer_new\u001b[0m \u001b[0;34m=\u001b[0m \u001b[0mdf\u001b[0m\u001b[0;34m.\u001b[0m\u001b[0mmerge\u001b[0m\u001b[0;34m(\u001b[0m\u001b[0mexport_df\u001b[0m\u001b[0;34m,\u001b[0m\u001b[0mon\u001b[0m\u001b[0;34m=\u001b[0m\u001b[0;34m'id'\u001b[0m\u001b[0;34m)\u001b[0m\u001b[0;34m\u001b[0m\u001b[0;34m\u001b[0m\u001b[0m\n\u001b[0m\u001b[1;32m     11\u001b[0m \u001b[0mmultilayer_new\u001b[0m \u001b[0;34m=\u001b[0m \u001b[0mdf\u001b[0m\u001b[0;34m.\u001b[0m\u001b[0mmerge\u001b[0m\u001b[0;34m(\u001b[0m\u001b[0mimport_df\u001b[0m\u001b[0;34m,\u001b[0m\u001b[0mon\u001b[0m\u001b[0;34m=\u001b[0m\u001b[0;34m'id'\u001b[0m\u001b[0;34m)\u001b[0m\u001b[0;34m\u001b[0m\u001b[0;34m\u001b[0m\u001b[0m\n",
      "\u001b[0;31mNameError\u001b[0m: name 'df' is not defined"
     ]
    }
   ],
   "source": [
    "# code to add other information\n",
    "partners = data[['Partner Code', 'Partner']].drop_duplicates()\n",
    "reporters = data[['Reporter Code', 'Reporter']].drop_duplicates()\n",
    "multilayer_new = pd.merge(multilayer, partners, on='Partner Code', validate='many_to_one')\n",
    "multilayer_new = pd.merge(multilayer_new, reporters, on='Reporter Code', validate='many_to_one')\n",
    "multilayer_new['SITC_name'] = multilayer_new['SITC'].map(sitc_names)\n",
    "multilayer_new = multilayer_new[['Partner Code', 'Partner']].drop_duplicates()\n",
    "multilayer_new.columns = ['id','name']\n",
    "multilayer_new.index = range(len(multilayer_new))\n",
    "multilayer_new = df.merge(export_df,on='id')\n",
    "multilayer_new = df.merge(import_df,on='id')"
   ]
  },
  {
   "cell_type": "code",
   "execution_count": null,
   "metadata": {},
   "outputs": [],
   "source": []
  },
  {
   "cell_type": "code",
   "execution_count": null,
   "metadata": {},
   "outputs": [],
   "source": []
  }
 ],
 "metadata": {
  "kernelspec": {
   "display_name": "Python 3",
   "language": "python",
   "name": "python3"
  },
  "language_info": {
   "codemirror_mode": {
    "name": "ipython",
    "version": 3
   },
   "file_extension": ".py",
   "mimetype": "text/x-python",
   "name": "python",
   "nbconvert_exporter": "python",
   "pygments_lexer": "ipython3",
   "version": "3.7.3"
  }
 },
 "nbformat": 4,
 "nbformat_minor": 2
}
