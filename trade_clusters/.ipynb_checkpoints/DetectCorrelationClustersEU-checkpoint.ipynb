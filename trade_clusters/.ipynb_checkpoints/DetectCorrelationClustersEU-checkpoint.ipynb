{
 "cells": [
  {
   "cell_type": "code",
   "execution_count": 64,
   "metadata": {},
   "outputs": [],
   "source": [
    "import pandas as pd\n",
    "import numpy as np\n",
    "import matplotlib.pyplot as plt\n",
    "import lou\n",
    "import glob\n",
    "import json\n",
    "from sklearn.metrics import adjusted_rand_score\n",
    "%matplotlib inline"
   ]
  },
  {
   "cell_type": "code",
   "execution_count": 47,
   "metadata": {},
   "outputs": [],
   "source": [
    "years = map(str,range(1999,2018))\n",
    "with open('EU_countries.json') as f:\n",
    "    countries = json.load(f)['results']\n",
    "countries_id = [c['id'] for c in countries]\n",
    "countries_name = {c['id']:c['text'] for c in countries}"
   ]
  },
  {
   "cell_type": "code",
   "execution_count": null,
   "metadata": {},
   "outputs": [],
   "source": []
  },
  {
   "cell_type": "code",
   "execution_count": 29,
   "metadata": {},
   "outputs": [],
   "source": [
    "files = {y: glob.glob('../../data/comtrade/Export_data_yearly/AG4/{}/Export_{}_*_0.csv'.format(y,y)) for y in years}\n",
    "files = {y: [f for f in files[y] if f.split('_')[-2] in countries_id] for y in years}"
   ]
  },
  {
   "cell_type": "markdown",
   "metadata": {},
   "source": [
    "### Check persistency"
   ]
  },
  {
   "cell_type": "code",
   "execution_count": 30,
   "metadata": {},
   "outputs": [
    {
     "name": "stdout",
     "output_type": "stream",
     "text": [
      "28\n"
     ]
    }
   ],
   "source": [
    "available_countries = {y : [f.split('_')[-2] for f in files[y]] for y in files}\n",
    "persisting_countries = reduce(lambda x,y: set.intersection(set(x),set(y)),available_countries.values())\n",
    "print len(persisting_countries)"
   ]
  },
  {
   "cell_type": "markdown",
   "metadata": {},
   "source": [
    "### Get clusters year by year"
   ]
  },
  {
   "cell_type": "code",
   "execution_count": 31,
   "metadata": {},
   "outputs": [],
   "source": []
  },
  {
   "cell_type": "code",
   "execution_count": 130,
   "metadata": {},
   "outputs": [],
   "source": [
    "comtrade_df = {y: pd.concat([pd.read_csv(f) for f in files[y]],ignore_index=1) for y in years}\n",
    "\n",
    "comtrade_bip = {}\n",
    "for y in years:\n",
    "    comtrade_df[y]['Commodity Code'] = (comtrade_df[y]['Commodity Code']/10).astype(int)\n",
    "    products = sorted(set(comtrade_df[y]['Commodity Code']))\n",
    "    dict_countries = dict(zip(countries_id,range(len(countries_id))))\n",
    "    dict_products = dict(zip(products,range(len(products))))\n",
    "    bip_mat = np.zeros((len(countries_id),len(products)))\n",
    "    for c,p,v in np.array(comtrade_df[y][['Reporter Code','Commodity Code','Trade Value (US$)']]):\n",
    "        bip_mat[dict_countries[str(c)],dict_products[p]] += v\n",
    "    comtrade_bip[y] = bip_mat"
   ]
  },
  {
   "cell_type": "code",
   "execution_count": 131,
   "metadata": {},
   "outputs": [
    {
     "name": "stdout",
     "output_type": "stream",
     "text": [
      "1999 174 0.012315270935960592\n",
      "2000 174 0.01087848932676519\n",
      "2001 174 0.018267651888341542\n",
      "2002 174 0.009852216748768473\n",
      "2003 174 0.010467980295566502\n",
      "2004 174 0.008825944170771757\n",
      "2005 174 0.008620689655172414\n",
      "2006 174 0.007183908045977011\n",
      "2007 174 0.009236453201970444\n",
      "2008 174 0.010057471264367816\n",
      "2009 174 0.01087848932676519\n",
      "2010 174 0.008620689655172414\n",
      "2011 174 0.012110016420361249\n",
      "2012 174 0.010057471264367816\n",
      "2013 174 0.008210180623973728\n",
      "2014 174 0.007389162561576354\n",
      "2015 174 0.007389162561576354\n",
      "2016 174 0.006568144499178982\n",
      "2017 175 0.008775510204081632\n"
     ]
    }
   ],
   "source": [
    "#count zeros\n",
    "for y in sorted(comtrade_bip):\n",
    "    n,m = comtrade_bip[y].shape\n",
    "    print y, m, (comtrade_bip[y]==0).sum()/float(n*m)"
   ]
  },
  {
   "cell_type": "code",
   "execution_count": 132,
   "metadata": {},
   "outputs": [
    {
     "name": "stdout",
     "output_type": "stream",
     "text": [
      "0 Austria\n",
      "1 Belgium\n",
      "2 Bulgaria\n",
      "3 Croatia\n",
      "4 Cyprus\n",
      "5 Czechia\n",
      "6 Denmark\n",
      "7 Estonia\n",
      "8 Finland\n",
      "9 France\n",
      "10 Germany\n",
      "11 Greece\n",
      "12 Hungary\n",
      "13 Ireland\n",
      "14 Italy\n",
      "15 Latvia\n",
      "16 Lithuania\n",
      "17 Luxembourg\n",
      "18 Malta\n",
      "19 Netherlands\n",
      "20 Poland\n",
      "21 Portugal\n",
      "22 Romania\n",
      "23 Slovakia\n",
      "24 Slovenia\n",
      "25 Sweden\n",
      "26 Spain\n",
      "27 United Kingdom\n"
     ]
    }
   ],
   "source": [
    "for i,c in enumerate(countries_id):\n",
    "    print i,countries_name[c]"
   ]
  },
  {
   "cell_type": "code",
   "execution_count": 133,
   "metadata": {},
   "outputs": [
    {
     "name": "stdout",
     "output_type": "stream",
     "text": [
      "1999 1 3\n",
      "2000 1 3\n",
      "2001 1 3\n",
      "2002 1 3\n",
      "2003 1 3\n",
      "2004 1 2\n",
      "2005 1 3\n",
      "2006 1 2\n",
      "2007 1 2\n",
      "2008 1 2\n",
      "2009 1 3\n",
      "2010 1 3\n",
      "2011 1 2\n",
      "2012 1 3\n",
      "2013 1 3\n",
      "2014 1 3\n",
      "2015 1 2\n",
      "2016 1 2\n",
      "2017 1 3\n"
     ]
    }
   ],
   "source": [
    "entrance_1995 = np.array([2,0,1,1,1,1,0,1,2,0,0,0,1,0,0,1,1,0,1,0,1,0,1,1,1,2,0,0])\n",
    "entrance_2004 = np.array([0,0,1,1,1,1,0,1,0,0,0,0,1,0,0,1,1,0,1,0,1,0,1,1,1,0,0,0])\n",
    "entrance_1995_2013 = np.array([2,0,3,4,1,1,0,1,2,0,0,0,1,0,0,1,1,0,1,0,1,0,3,1,1,2,0,0])\n",
    "entrance_2004_2013 = np.array([0,0,3,4,1,1,0,1,0,0,0,0,1,0,0,1,1,0,1,0,1,0,3,1,1,0,0,0])\n",
    "\n",
    "\n",
    "clusters = {}\n",
    "ari = {}\n",
    "for y in sorted(comtrade_bip):\n",
    "    H = lou.Find_Membership(comtrade_bip[y])\n",
    "    print y,len(set(H[0])),len(set(H[1]))\n",
    "    ari[y] = adjusted_rand_score(entrance_2004_2013,H[1])\n",
    "    clusters[y] = pd.DataFrame(zip(countries_id,[countries_name[c] for c in countries_id],H[1]),columns=['id','name','cluster'])"
   ]
  },
  {
   "cell_type": "code",
   "execution_count": 134,
   "metadata": {},
   "outputs": [],
   "source": [
    "x_years = sorted(ari)\n",
    "y_ari = [ari[y] for y in sorted(ari)]"
   ]
  },
  {
   "cell_type": "code",
   "execution_count": 135,
   "metadata": {},
   "outputs": [
    {
     "data": {
      "text/plain": [
       "([0, 1, 2, 3, 4, 5, 6, 7, 8, 9, 10, 11, 12, 13, 14, 15, 16, 17, 18],\n",
       " <a list of 19 Text xticklabel objects>)"
      ]
     },
     "execution_count": 135,
     "metadata": {},
     "output_type": "execute_result"
    },
    {
     "data": {
      "image/png": "[encoded data removed]",
      "text/plain": [
       "<matplotlib.figure.Figure at 0x7f3442c334d0>"
      ]
     },
     "metadata": {},
     "output_type": "display_data"
    }
   ],
   "source": [
    "plt.plot(x_years,y_ari)\n",
    "plt.xticks(rotation=45)"
   ]
  },
  {
   "cell_type": "code",
   "execution_count": 81,
   "metadata": {},
   "outputs": [
    {
     "name": "stdout",
     "output_type": "stream",
     "text": [
      "1999\n",
      "[u'Austria', u'Belgium', u'Czechia', u'France', u'Germany', u'Portugal', u'Slovakia', u'Slovenia', u'Spain']\n",
      "[u'Bulgaria', u'Croatia', u'Cyprus', u'Denmark', u'Estonia', u'Finland', u'Greece', u'Italy', u'Latvia', u'Lithuania', u'Poland', u'Romania', u'Sweden']\n",
      "[u'Hungary', u'Ireland', u'Luxembourg', u'Malta', u'Netherlands', u'United Kingdom']\n",
      "2000\n",
      "[u'Austria', u'Denmark', u'Germany', u'Hungary', u'Ireland', u'Luxembourg', u'Malta', u'Netherlands', u'United Kingdom']\n",
      "[u'Belgium', u'Czechia', u'France', u'Italy', u'Poland', u'Portugal', u'Slovakia', u'Slovenia', u'Spain']\n",
      "[u'Bulgaria', u'Croatia', u'Cyprus', u'Estonia', u'Finland', u'Greece', u'Latvia', u'Lithuania', u'Romania', u'Sweden']\n",
      "2001\n",
      "[u'Austria', u'Denmark', u'Estonia', u'Finland', u'Hungary', u'Ireland', u'Luxembourg', u'Malta', u'Netherlands', u'Sweden', u'United Kingdom']\n",
      "[u'Bulgaria', u'Croatia', u'Cyprus', u'Greece', u'Italy', u'Latvia', u'Lithuania', u'Romania']\n",
      "[u'Belgium', u'Czechia', u'France', u'Germany', u'Poland', u'Portugal', u'Slovakia', u'Slovenia', u'Spain']\n",
      "2002\n",
      "[u'Belgium', u'Cyprus', u'Czechia', u'France', u'Germany', u'Portugal', u'Slovakia', u'Slovenia', u'Spain']\n",
      "[u'Austria', u'Denmark', u'Finland', u'Hungary', u'Ireland', u'Luxembourg', u'Netherlands', u'Sweden', u'United Kingdom']\n",
      "[u'Bulgaria', u'Croatia', u'Estonia', u'Greece', u'Italy', u'Latvia', u'Lithuania', u'Malta', u'Poland', u'Romania']\n",
      "2003\n",
      "[u'Bulgaria', u'Croatia', u'Estonia', u'Finland', u'Greece', u'Hungary', u'Italy', u'Latvia', u'Lithuania', u'Malta', u'Romania']\n",
      "[u'Austria', u'Belgium', u'Denmark', u'Ireland', u'Luxembourg', u'Netherlands', u'Sweden', u'United Kingdom']\n",
      "[u'Cyprus', u'Czechia', u'France', u'Germany', u'Poland', u'Portugal', u'Slovakia', u'Slovenia', u'Spain']\n",
      "2004\n",
      "[u'Bulgaria', u'Croatia', u'Estonia', u'Finland', u'Greece', u'Hungary', u'Italy', u'Latvia', u'Lithuania', u'Malta', u'Romania']\n",
      "[u'Austria', u'Belgium', u'Cyprus', u'Czechia', u'France', u'Germany', u'Poland', u'Slovakia', u'Slovenia', u'Spain']\n",
      "[u'Denmark', u'Ireland', u'Luxembourg', u'Netherlands', u'Portugal', u'Sweden', u'United Kingdom']\n",
      "2005\n",
      "[u'Bulgaria', u'Croatia', u'Greece', u'Italy', u'Latvia', u'Lithuania', u'Romania']\n",
      "[u'Cyprus', u'Estonia', u'Finland', u'Hungary', u'Luxembourg', u'Sweden']\n",
      "[u'Austria', u'Czechia', u'France', u'Germany', u'Poland', u'Portugal', u'Slovakia', u'Slovenia', u'Spain']\n",
      "[u'Belgium', u'Denmark', u'Ireland', u'Malta', u'Netherlands', u'United Kingdom']\n",
      "2006\n",
      "[u'Bulgaria', u'Croatia', u'Cyprus', u'Estonia', u'Greece', u'Italy', u'Latvia', u'Lithuania', u'Romania']\n",
      "[u'Austria', u'Czechia', u'France', u'Germany', u'Luxembourg', u'Poland', u'Portugal', u'Slovakia', u'Slovenia', u'Spain']\n",
      "[u'Belgium', u'Denmark', u'Finland', u'Hungary', u'Ireland', u'Malta', u'Netherlands', u'Sweden', u'United Kingdom']\n",
      "2007\n",
      "[u'Bulgaria', u'Croatia', u'Cyprus', u'Estonia', u'Finland', u'Greece', u'Italy', u'Latvia', u'Lithuania', u'Netherlands', u'Romania']\n",
      "[u'Austria', u'Czechia', u'France', u'Germany', u'Hungary', u'Luxembourg', u'Poland', u'Portugal', u'Slovakia', u'Slovenia', u'Spain']\n",
      "[u'Belgium', u'Denmark', u'Ireland', u'Malta', u'Sweden', u'United Kingdom']\n",
      "2008\n",
      "[u'Austria', u'Czechia', u'France', u'Germany', u'Hungary', u'Latvia', u'Luxembourg', u'Poland', u'Portugal', u'Slovakia', u'Slovenia', u'Spain']\n",
      "[u'Bulgaria', u'Croatia', u'Cyprus', u'Estonia', u'Finland', u'Greece', u'Italy', u'Lithuania', u'Netherlands', u'Romania', u'Sweden']\n",
      "[u'Belgium', u'Denmark', u'Ireland', u'Malta', u'United Kingdom']\n",
      "2009\n",
      "[u'Bulgaria', u'Croatia', u'Cyprus', u'Estonia', u'Finland', u'Greece', u'Latvia', u'Lithuania', u'Netherlands', u'Sweden']\n",
      "[u'Czechia', u'Germany', u'Hungary', u'Luxembourg', u'Poland', u'Portugal', u'Romania', u'Slovakia', u'Slovenia', u'Spain']\n",
      "[u'Austria', u'Belgium', u'Denmark', u'France', u'Ireland', u'Italy', u'Malta', u'United Kingdom']\n",
      "2010\n",
      "[u'Bulgaria', u'Croatia', u'Cyprus', u'Estonia', u'Finland', u'Greece', u'Italy', u'Lithuania', u'Malta', u'Netherlands', u'Sweden']\n",
      "[u'Czechia', u'Germany', u'Hungary', u'Luxembourg', u'Poland', u'Portugal', u'Romania', u'Slovakia', u'Slovenia', u'Spain']\n",
      "[u'Austria', u'Belgium', u'Denmark', u'France', u'Ireland', u'Latvia', u'United Kingdom']\n",
      "2011\n",
      "[u'Bulgaria', u'Croatia', u'Cyprus', u'Estonia', u'Finland', u'Greece', u'Lithuania', u'Malta', u'Netherlands']\n",
      "[u'Belgium', u'Denmark', u'Ireland', u'Italy', u'Latvia', u'Sweden', u'United Kingdom']\n",
      "[u'Austria', u'Czechia', u'France', u'Germany', u'Hungary', u'Luxembourg', u'Poland', u'Portugal', u'Romania', u'Slovakia', u'Slovenia', u'Spain']\n",
      "2012\n",
      "[u'Austria', u'Czechia', u'France', u'Germany', u'Hungary', u'Luxembourg', u'Poland', u'Romania', u'Slovakia', u'Slovenia', u'Spain']\n",
      "[u'Bulgaria', u'Croatia', u'Estonia', u'Finland', u'Greece', u'Lithuania', u'Malta', u'Netherlands', u'Portugal', u'Sweden']\n",
      "[u'Belgium', u'Cyprus', u'Denmark', u'Ireland', u'Italy', u'Latvia', u'United Kingdom']\n",
      "2013\n",
      "[u'Belgium', u'Bulgaria', u'Croatia', u'Estonia', u'Finland', u'Greece', u'Lithuania', u'Malta', u'Netherlands', u'Portugal']\n",
      "[u'Cyprus', u'Denmark', u'France', u'Ireland', u'Italy', u'Latvia', u'Sweden', u'United Kingdom']\n",
      "[u'Austria', u'Czechia', u'Germany', u'Hungary', u'Luxembourg', u'Poland', u'Romania', u'Slovakia', u'Slovenia', u'Spain']\n",
      "2014\n",
      "[u'Bulgaria', u'Croatia', u'Estonia', u'Finland', u'Greece', u'Latvia', u'Lithuania', u'Malta', u'Netherlands', u'Portugal', u'Sweden']\n",
      "[u'Belgium', u'Cyprus', u'Denmark', u'Ireland', u'Italy']\n",
      "[u'Austria', u'Czechia', u'France', u'Germany', u'Hungary', u'Luxembourg', u'Poland', u'Romania', u'Slovakia', u'Slovenia', u'Spain', u'United Kingdom']\n",
      "2015\n",
      "[u'Belgium', u'France', u'Ireland']\n",
      "[u'Bulgaria', u'Croatia', u'Cyprus', u'Denmark', u'Estonia', u'Finland', u'Greece', u'Latvia', u'Lithuania', u'Malta', u'Netherlands', u'Portugal', u'Sweden']\n",
      "[u'Austria', u'Czechia', u'Germany', u'Hungary', u'Italy', u'Luxembourg', u'Poland', u'Romania', u'Slovakia', u'Slovenia', u'Spain', u'United Kingdom']\n",
      "2016\n",
      "[u'Austria', u'Czechia', u'Germany', u'Hungary', u'Italy', u'Luxembourg', u'Poland', u'Romania', u'Slovakia', u'Slovenia', u'Spain', u'United Kingdom']\n",
      "[u'Bulgaria', u'Croatia', u'Cyprus', u'Estonia', u'Finland', u'Greece', u'Latvia', u'Lithuania', u'Malta', u'Netherlands', u'Portugal', u'Sweden']\n",
      "[u'Belgium', u'Denmark', u'France', u'Ireland']\n",
      "2017\n",
      "[u'Bulgaria', u'Croatia', u'Cyprus', u'Estonia', u'Finland', u'Greece', u'Latvia', u'Lithuania', u'Netherlands', u'Portugal', u'Sweden']\n",
      "[u'Belgium', u'Denmark', u'France', u'Ireland', u'Italy', u'Malta']\n",
      "[u'Austria', u'Czechia', u'Germany', u'Hungary', u'Luxembourg', u'Poland', u'Romania', u'Slovakia', u'Slovenia', u'Spain', u'United Kingdom']\n"
     ]
    }
   ],
   "source": [
    "for y in sorted(comtrade_bip):\n",
    "    print y\n",
    "    n_clusters = set(clusters[y].cluster)\n",
    "    for cluster in n_clusters:\n",
    "        print clusters[y][clusters[y]['cluster']==cluster]['name'].tolist()"
   ]
  },
  {
   "cell_type": "code",
   "execution_count": null,
   "metadata": {},
   "outputs": [],
   "source": []
  },
  {
   "cell_type": "code",
   "execution_count": null,
   "metadata": {},
   "outputs": [],
   "source": []
  },
  {
   "cell_type": "code",
   "execution_count": null,
   "metadata": {},
   "outputs": [],
   "source": []
  }
 ],
 "metadata": {
  "kernelspec": {
   "display_name": "Python 2",
   "language": "python",
   "name": "python2"
  },
  "language_info": {
   "codemirror_mode": {
    "name": "ipython",
    "version": 2
   },
   "file_extension": ".py",
   "mimetype": "text/x-python",
   "name": "python",
   "nbconvert_exporter": "python",
   "pygments_lexer": "ipython2",
   "version": "2.7.16"
  }
 },
 "nbformat": 4,
 "nbformat_minor": 2
}
