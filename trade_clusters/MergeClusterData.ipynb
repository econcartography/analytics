{
 "cells": [
  {
   "cell_type": "code",
   "execution_count": 22,
   "metadata": {},
   "outputs": [],
   "source": [
    "import pandas as pd\n",
    "from functools import reduce\n",
    "import matplotlib.pyplot as plt"
   ]
  },
  {
   "cell_type": "code",
   "execution_count": 20,
   "metadata": {},
   "outputs": [],
   "source": [
    "years = range(1999,2018)\n",
    "files = {y: pd.read_csv('ClustersFitnessEU{}.csv'.format(y)) for y in years}\n",
    "for y in years:\n",
    "    files[y]['year'] = y"
   ]
  },
  {
   "cell_type": "code",
   "execution_count": 25,
   "metadata": {},
   "outputs": [],
   "source": [
    "pd.concat(files.values()).to_csv('nodes.csv', index=False)"
   ]
  },
  {
   "cell_type": "code",
   "execution_count": 26,
   "metadata": {},
   "outputs": [
    {
     "name": "stdout",
     "output_type": "stream",
     "text": [
      "id,name,cluster,fitness,year\n",
      "40,Austria,2,1.177870199448971,1999\n",
      "56,Belgium,2,3.3100108966399246,1999\n",
      "100,Bulgaria,1,0.06779898010901064,1999\n",
      "191,Croatia,1,0.06716534030215117,1999\n",
      "196,Cyprus,1,0.010954681453734762,1999\n",
      "203,Czechia,2,0.6033744557356654,1999\n",
      "208,Denmark,0,0.9961157386453882,1999\n",
      "233,Estonia,1,0.04690264770390767,1999\n",
      "246,Finland,0,0.7512060452869092,1999\n"
     ]
    }
   ],
   "source": [
    "!head nodes.csv"
   ]
  },
  {
   "cell_type": "code",
   "execution_count": null,
   "metadata": {},
   "outputs": [],
   "source": []
  }
 ],
 "metadata": {
  "kernelspec": {
   "display_name": "Python 3",
   "language": "python",
   "name": "python3"
  },
  "language_info": {
   "codemirror_mode": {
    "name": "ipython",
    "version": 3
   },
   "file_extension": ".py",
   "mimetype": "text/x-python",
   "name": "python",
   "nbconvert_exporter": "python",
   "pygments_lexer": "ipython3",
   "version": "3.7.1"
  }
 },
 "nbformat": 4,
 "nbformat_minor": 2
}
