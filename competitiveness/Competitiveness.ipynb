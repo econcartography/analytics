{
 "cells": [
  {
   "cell_type": "code",
   "execution_count": 1,
   "metadata": {},
   "outputs": [],
   "source": [
    "import pandas as pd\n",
    "import fcStop\n",
    "import glob\n",
    "import numpy as np\n",
    "import os\n",
    "from functools import reduce\n",
    "import json\n",
    "import fcBasicVer\n",
    "import matplotlib.pyplot as plt\n",
    "%matplotlib inline"
   ]
  },
  {
   "cell_type": "code",
   "execution_count": null,
   "metadata": {},
   "outputs": [],
   "source": []
  },
  {
   "cell_type": "code",
   "execution_count": 2,
   "metadata": {},
   "outputs": [],
   "source": [
    "years = list(map(str,range(1999,2018)))\n",
    "with open('../../data/comtrade/countries.json') as f:\n",
    "    countries = json.load(f)['results']\n",
    "countries_id = [c['id'] for c in countries]\n",
    "countries_name = {c['id']:c['text'] for c in countries}"
   ]
  },
  {
   "cell_type": "code",
   "execution_count": null,
   "metadata": {},
   "outputs": [],
   "source": []
  },
  {
   "cell_type": "code",
   "execution_count": 3,
   "metadata": {},
   "outputs": [],
   "source": [
    "files = {y: glob.glob('../../data/comtrade/Export_data_yearly/AG2/{}/Export_{}_*_0.csv'.format(y,y)) for y in years}"
   ]
  },
  {
   "cell_type": "code",
   "execution_count": null,
   "metadata": {},
   "outputs": [],
   "source": []
  },
  {
   "cell_type": "code",
   "execution_count": 4,
   "metadata": {},
   "outputs": [],
   "source": [
    "countries_files = {y : [f.split('_')[-2] for f in files[y]] for y in files}"
   ]
  },
  {
   "cell_type": "code",
   "execution_count": 5,
   "metadata": {},
   "outputs": [],
   "source": [
    "persisting_countries = sorted(reduce(lambda x,y: set.intersection(set(x),set(y)),countries_files.values()))"
   ]
  },
  {
   "cell_type": "code",
   "execution_count": 6,
   "metadata": {},
   "outputs": [
    {
     "name": "stdout",
     "output_type": "stream",
     "text": [
      "99\n"
     ]
    }
   ],
   "source": [
    "print len(persisting_countries)"
   ]
  },
  {
   "cell_type": "code",
   "execution_count": 7,
   "metadata": {},
   "outputs": [],
   "source": [
    "countries = [c for c in countries if c['id'] in persisting_countries]\n",
    "\n",
    "countries_json = {}\n",
    "countries_json['results'] = countries\n",
    "\n",
    "with open('../../data/comtrade/pers_countries.json','w') as f:\n",
    "    json.dump(countries_json,f)"
   ]
  },
  {
   "cell_type": "code",
   "execution_count": null,
   "metadata": {},
   "outputs": [],
   "source": []
  },
  {
   "cell_type": "code",
   "execution_count": 8,
   "metadata": {},
   "outputs": [],
   "source": [
    "files = {y: [f for f in files[y] if f.split('_')[-2] in persisting_countries] for y in files}"
   ]
  },
  {
   "cell_type": "code",
   "execution_count": 33,
   "metadata": {},
   "outputs": [
    {
     "data": {
      "text/plain": [
       "array([[1, 1, 0, ..., 0, 0, 1],\n",
       "       [0, 0, 0, ..., 1, 1, 0],\n",
       "       [0, 1, 0, ..., 0, 0, 1],\n",
       "       ...,\n",
       "       [0, 0, 1, ..., 1, 0, 1],\n",
       "       [0, 1, 1, ..., 0, 0, 0],\n",
       "       [1, 1, 1, ..., 0, 0, 0]])"
      ]
     },
     "execution_count": 33,
     "metadata": {},
     "output_type": "execute_result"
    }
   ],
   "source": []
  },
  {
   "cell_type": "code",
   "execution_count": 32,
   "metadata": {},
   "outputs": [
    {
     "data": {
      "text/plain": [
       "array([[1.80597607e+00, 8.75476260e-01, 2.33482289e-01, ...,\n",
       "        1.29414574e+01, 7.55937888e-01, 5.84794028e+01],\n",
       "       [2.58460936e-04, 0.00000000e+00, 3.28208867e-03, ...,\n",
       "        3.14916606e+02, 4.49648878e+02, 0.00000000e+00],\n",
       "       [1.30961140e-01, 3.30916980e+00, 7.25365106e-01, ...,\n",
       "        9.35178853e+00, 5.92602382e-02, 5.86435959e+01],\n",
       "       ...,\n",
       "       [6.39145259e-01, 0.00000000e+00, 2.07494962e+01, ...,\n",
       "        9.84148505e+01, 6.23981473e-02, 3.65120009e+01],\n",
       "       [8.22209029e-01, 9.10922498e-01, 9.87391689e-01, ...,\n",
       "        1.13737739e+00, 1.14541917e+00, 1.18591223e+00],\n",
       "       [1.00001137e+00, 1.00001241e+00, 1.00001148e+00, ...,\n",
       "        1.00796765e+00, 1.02656438e+00, 0.00000000e+00]])"
      ]
     },
     "execution_count": 32,
     "metadata": {},
     "output_type": "execute_result"
    }
   ],
   "source": [
    "bip_mat"
   ]
  },
  {
   "cell_type": "code",
   "execution_count": 39,
   "metadata": {},
   "outputs": [],
   "source": [
    "comtrade_df = {y: pd.concat([pd.read_csv(f) for f in files[y]],ignore_index=1) for y in years}\n",
    "\n",
    "comtrade_bip = {}\n",
    "prods = {}\n",
    "dicts_prod = {}\n",
    "for y in years:\n",
    "    comtrade_df[y]['Commodity Code'] = (comtrade_df[y]['Commodity Code']).astype(int)\n",
    "    products = sorted(set(comtrade_df[y]['Commodity Code']))\n",
    "    dict_countries = dict(zip(persisting_countries,range(len(persisting_countries))))\n",
    "    dict_products = dict(zip(products,range(len(products))))\n",
    "    dicts_prod[y] = dict_products\n",
    "    prods[y] = products\n",
    "    bip_mat = np.zeros((len(persisting_countries),len(products)))\n",
    "    for c,p,v in np.array(comtrade_df[y][['Reporter Code','Commodity Code','Trade Value (US$)']]):\n",
    "        bip_mat[dict_countries[str(c)],dict_products[p]] += v\n",
    "    for i in xrange(len(bip_mat[0])): bip_mat[:,i] = bip_mat[:,i]/(bip_mat[:,i].sum())\n",
    "    \n",
    "    #for i in xrange(len(bip_mat)):\n",
    "    #    for j in xrange(len(bip_mat[0])):\n",
    "    #        bip_mat[i,j] = (bip_mat[i,j]/(bip_mat[i]).sum())/((bip_mat[:,j].sum())/(bip_mat.sum()))\n",
    "        \n",
    "    #bip_mat = (bip_mat>1).astype(int)\n",
    "    \n",
    "    comtrade_bip[y] = bip_mat"
   ]
  },
  {
   "cell_type": "code",
   "execution_count": 40,
   "metadata": {},
   "outputs": [
    {
     "name": "stdout",
     "output_type": "stream",
     "text": [
      "0 0 0 0 0 0 0 0 0 0 0 0 0 0 0 0 0 0 0\n"
     ]
    }
   ],
   "source": [
    "#products = sorted(set(pd.concat(comtrade_df.values(),ignore_index=1)['Commodity Code']))\n",
    "\n",
    "fitness = pd.DataFrame()\n",
    "fitness['countries'] = persisting_countries\n",
    "\n",
    "complexity = pd.DataFrame()\n",
    "complexity['product'] = prods['1999']\n",
    "\n",
    "for y in sorted(comtrade_bip):\n",
    "    fitComplex = fcStop.fitnessComplexityStop(comtrade_bip[y],iteraz=300)\n",
    "    fitness[y] = [fitComplex[0][dict_countries[c]] for c in persisting_countries]\n",
    "    complexity[y] = [fitComplex[1][dicts_prod[y][c]] for c in prods['1999']]"
   ]
  },
  {
   "cell_type": "code",
   "execution_count": null,
   "metadata": {},
   "outputs": [],
   "source": []
  },
  {
   "cell_type": "code",
   "execution_count": null,
   "metadata": {},
   "outputs": [],
   "source": []
  },
  {
   "cell_type": "code",
   "execution_count": null,
   "metadata": {},
   "outputs": [],
   "source": []
  },
  {
   "cell_type": "code",
   "execution_count": 43,
   "metadata": {},
   "outputs": [],
   "source": [
    "fitness.to_csv('YearlyFitnessAG2W.csv',index=None)\n",
    "complexity.to_csv('YearlyComplexityAG2W.csv',index=None)"
   ]
  },
  {
   "cell_type": "code",
   "execution_count": 31,
   "metadata": {},
   "outputs": [],
   "source": [
    "#fcBasicVer.computeFQ1(comtrade_bip['1999'],300)[0].shape"
   ]
  },
  {
   "cell_type": "code",
   "execution_count": 13,
   "metadata": {},
   "outputs": [
    {
     "name": "stdout",
     "output_type": "stream",
     "text": [
      "0"
     ]
    },
    {
     "data": {
      "text/plain": [
       "(99,)"
      ]
     },
     "execution_count": 13,
     "metadata": {},
     "output_type": "execute_result"
    },
    {
     "name": "stdout",
     "output_type": "stream",
     "text": [
      "\n"
     ]
    }
   ],
   "source": [
    "fcStop.fitnessComplexityStop(comtrade_bip['1999'],iteraz=300)[0]"
   ]
  },
  {
   "cell_type": "code",
   "execution_count": 16,
   "metadata": {},
   "outputs": [
    {
     "data": {
      "text/plain": [
       "{'100',\n",
       " '108',\n",
       " '112',\n",
       " '12',\n",
       " '124',\n",
       " '140',\n",
       " '144',\n",
       " '152',\n",
       " '156',\n",
       " '170',\n",
       " '188',\n",
       " '191',\n",
       " '196',\n",
       " '203',\n",
       " '204',\n",
       " '208',\n",
       " '218',\n",
       " '222',\n",
       " '233',\n",
       " '246',\n",
       " '251',\n",
       " '268',\n",
       " '270',\n",
       " '276',\n",
       " '300',\n",
       " '31',\n",
       " '32',\n",
       " '320',\n",
       " '328',\n",
       " '344',\n",
       " '348',\n",
       " '352',\n",
       " '36',\n",
       " '360',\n",
       " '372',\n",
       " '376',\n",
       " '381',\n",
       " '384',\n",
       " '388',\n",
       " '392',\n",
       " '398',\n",
       " '40',\n",
       " '400',\n",
       " '410',\n",
       " '422',\n",
       " '428',\n",
       " '440',\n",
       " '442',\n",
       " '450',\n",
       " '454',\n",
       " '458',\n",
       " '462',\n",
       " '470',\n",
       " '480',\n",
       " '484',\n",
       " '490',\n",
       " '498',\n",
       " '504',\n",
       " '508',\n",
       " '51',\n",
       " '512',\n",
       " '52',\n",
       " '528',\n",
       " '554',\n",
       " '558',\n",
       " '56',\n",
       " '579',\n",
       " '600',\n",
       " '604',\n",
       " '608',\n",
       " '616',\n",
       " '620',\n",
       " '642',\n",
       " '643',\n",
       " '659',\n",
       " '662',\n",
       " '670',\n",
       " '678',\n",
       " '68',\n",
       " '686',\n",
       " '699',\n",
       " '702',\n",
       " '703',\n",
       " '705',\n",
       " '724',\n",
       " '752',\n",
       " '757',\n",
       " '76',\n",
       " '788',\n",
       " '792',\n",
       " '8',\n",
       " '800',\n",
       " '804',\n",
       " '818',\n",
       " '826',\n",
       " '834',\n",
       " '84',\n",
       " '842',\n",
       " '858'}"
      ]
     },
     "execution_count": 16,
     "metadata": {},
     "output_type": "execute_result"
    }
   ],
   "source": [
    "fitness"
   ]
  },
  {
   "cell_type": "code",
   "execution_count": 33,
   "metadata": {},
   "outputs": [
    {
     "data": {
      "text/plain": [
       "(99, 174)"
      ]
     },
     "execution_count": 33,
     "metadata": {},
     "output_type": "execute_result"
    }
   ],
   "source": [
    "comtrade_bip['1999'].shape"
   ]
  },
  {
   "cell_type": "code",
   "execution_count": null,
   "metadata": {},
   "outputs": [],
   "source": []
  }
 ],
 "metadata": {
  "kernelspec": {
   "display_name": "Python 2",
   "language": "python",
   "name": "python2"
  },
  "language_info": {
   "codemirror_mode": {
    "name": "ipython",
    "version": 2
   },
   "file_extension": ".py",
   "mimetype": "text/x-python",
   "name": "python",
   "nbconvert_exporter": "python",
   "pygments_lexer": "ipython2",
   "version": "2.7.16"
  }
 },
 "nbformat": 4,
 "nbformat_minor": 2
}
